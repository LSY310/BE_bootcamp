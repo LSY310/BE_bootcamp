{
 "cells": [
  {
   "cell_type": "code",
   "execution_count": 23,
   "metadata": {},
   "outputs": [
    {
     "name": "stderr",
     "output_type": "stream",
     "text": [
      "/bin/sh: /Applications/Google Chrome.app/Contents/MacOS/Google Chrome: No such file or directory\n"
     ]
    },
    {
     "name": "stdout",
     "output_type": "stream",
     "text": [
      "/Users/mac/.wdm/drivers/chromedriver/mac64/120/chromedriver-mac-x64/chromedriver\n"
     ]
    },
    {
     "name": "stderr",
     "output_type": "stream",
     "text": [
      "/bin/sh: /Applications/Google Chrome.app/Contents/MacOS/Google Chrome: No such file or directory\n"
     ]
    }
   ],
   "source": [
    "from webdriver_manager.chrome import ChromeDriverManager\n",
    "print(ChromeDriverManager(driver_version='120').install())"
   ]
  },
  {
   "cell_type": "markdown",
   "metadata": {},
   "source": []
  },
  {
   "cell_type": "code",
   "execution_count": 24,
   "metadata": {},
   "outputs": [],
   "source": [
    "from selenium import webdriver\n",
    "browser=webdriver.Chrome()"
   ]
  },
  {
   "cell_type": "code",
   "execution_count": 28,
   "metadata": {},
   "outputs": [],
   "source": [
    "url='https://www.yes24.com/Product/Category/BestSeller?categoryNumber=001&pageNumber=1&pageSize=24'\n",
    "browser.get(url)"
   ]
  },
  {
   "cell_type": "code",
   "execution_count": 34,
   "metadata": {},
   "outputs": [
    {
     "name": "stdout",
     "output_type": "stream",
     "text": [
      "https://www.yes24.com/Product/Goods/124999476\n",
      "https://www.yes24.com/Product/Goods/125295101\n",
      "https://www.yes24.com/Product/Goods/125992096\n",
      "https://www.yes24.com/Product/Goods/125491624\n",
      "https://www.yes24.com/Product/Goods/126010792\n",
      "https://www.yes24.com/Product/Goods/125576919\n",
      "https://www.yes24.com/Product/Goods/122120495\n",
      "https://www.yes24.com/Product/Goods/125970283\n",
      "https://www.yes24.com/Product/Goods/123675187\n",
      "https://www.yes24.com/Product/Goods/117014613\n",
      "https://www.yes24.com/Product/Goods/125651056\n",
      "https://www.yes24.com/Product/Goods/124926484\n",
      "https://www.yes24.com/Product/Goods/125871480\n",
      "https://www.yes24.com/Product/Goods/125752452\n",
      "https://www.yes24.com/Product/Goods/90926731\n",
      "https://www.yes24.com/Product/Goods/96547408\n",
      "https://www.yes24.com/Product/Goods/125384202\n",
      "https://www.yes24.com/Product/Goods/123400303\n",
      "https://www.yes24.com/Product/Goods/126029503\n",
      "https://www.yes24.com/Product/Goods/124043812\n",
      "https://www.yes24.com/Product/Goods/123930880\n",
      "https://www.yes24.com/Product/Goods/125606168\n",
      "https://www.yes24.com/Product/Goods/124043802\n",
      "https://www.yes24.com/Product/Goods/125905365\n"
     ]
    }
   ],
   "source": [
    "#한개의 베스트 셀러 링크\n",
    "from selenium.webdriver.common.by import By\n",
    "browser.find_element(By.CLASS_NAME,'gd_name').get_attribute(\"href\")\n",
    "#1페이지 전체 링크\n",
    "datas = browser.find_elements(By.CLASS_NAME,'gd_name')\n",
    "for i in datas:\n",
    "    print(i.get_attribute(\"href\"))"
   ]
  },
  {
   "cell_type": "code",
   "execution_count": 36,
   "metadata": {},
   "outputs": [
    {
     "name": "stdout",
     "output_type": "stream",
     "text": [
      "['https://www.yes24.com/Product/Goods/124999476', 'https://www.yes24.com/Product/Goods/125295101', 'https://www.yes24.com/Product/Goods/125992096', 'https://www.yes24.com/Product/Goods/125491624', 'https://www.yes24.com/Product/Goods/126010792', 'https://www.yes24.com/Product/Goods/125576919', 'https://www.yes24.com/Product/Goods/122120495', 'https://www.yes24.com/Product/Goods/125970283', 'https://www.yes24.com/Product/Goods/123675187', 'https://www.yes24.com/Product/Goods/117014613', 'https://www.yes24.com/Product/Goods/125651056', 'https://www.yes24.com/Product/Goods/124926484', 'https://www.yes24.com/Product/Goods/125871480', 'https://www.yes24.com/Product/Goods/125752452', 'https://www.yes24.com/Product/Goods/90926731', 'https://www.yes24.com/Product/Goods/96547408', 'https://www.yes24.com/Product/Goods/125384202', 'https://www.yes24.com/Product/Goods/123400303', 'https://www.yes24.com/Product/Goods/126029503', 'https://www.yes24.com/Product/Goods/124043812', 'https://www.yes24.com/Product/Goods/123930880', 'https://www.yes24.com/Product/Goods/125606168', 'https://www.yes24.com/Product/Goods/124043802', 'https://www.yes24.com/Product/Goods/125905365', 'https://www.yes24.com/Product/Goods/125184439', 'https://www.yes24.com/Product/Goods/124702623', 'https://www.yes24.com/Product/Goods/123930891', 'https://www.yes24.com/Product/Goods/125709308', 'https://www.yes24.com/Product/Goods/125557465', 'https://www.yes24.com/Product/Goods/125771626', 'https://www.yes24.com/Product/Goods/125558632', 'https://www.yes24.com/Product/Goods/125969501', 'https://www.yes24.com/Product/Goods/125085536', 'https://www.yes24.com/Product/Goods/114853233', 'https://www.yes24.com/Product/Goods/125558276', 'https://www.yes24.com/Product/Goods/125453202', 'https://www.yes24.com/Product/Goods/82287934', 'https://www.yes24.com/Product/Goods/8759796', 'https://www.yes24.com/Product/Goods/90275002', 'https://www.yes24.com/Product/Goods/124112599', 'https://www.yes24.com/Product/Goods/125668307', 'https://www.yes24.com/Product/Goods/126029190', 'https://www.yes24.com/Product/Goods/125660337', 'https://www.yes24.com/Product/Goods/125592336', 'https://www.yes24.com/Product/Goods/125105639', 'https://www.yes24.com/Product/Goods/125905738', 'https://www.yes24.com/Product/Goods/118579613', 'https://www.yes24.com/Product/Goods/124225606', 'https://www.yes24.com/Product/Goods/125005921', 'https://www.yes24.com/Product/Goods/125542915', 'https://www.yes24.com/Product/Goods/122090360', 'https://www.yes24.com/Product/Goods/125691975', 'https://www.yes24.com/Product/Goods/125183742', 'https://www.yes24.com/Product/Goods/125648423', 'https://www.yes24.com/Product/Goods/118413014', 'https://www.yes24.com/Product/Goods/125910832', 'https://www.yes24.com/Product/Goods/118569079', 'https://www.yes24.com/Product/Goods/125757418', 'https://www.yes24.com/Product/Goods/97255028', 'https://www.yes24.com/Product/Goods/122457906', 'https://www.yes24.com/Product/Goods/79297023', 'https://www.yes24.com/Product/Goods/25283908', 'https://www.yes24.com/Product/Goods/119562091', 'https://www.yes24.com/Product/Goods/125934131', 'https://www.yes24.com/Product/Goods/125300689', 'https://www.yes24.com/Product/Goods/122428190', 'https://www.yes24.com/Product/Goods/124702605', 'https://www.yes24.com/Product/Goods/124539805', 'https://www.yes24.com/Product/Goods/125873934', 'https://www.yes24.com/Product/Goods/125285962', 'https://www.yes24.com/Product/Goods/125447851', 'https://www.yes24.com/Product/Goods/124988172']\n",
      "72\n"
     ]
    }
   ],
   "source": [
    "import time\n",
    "link_list =[]\n",
    "for i in range(1,4):\n",
    "    url=f'https://www.yes24.com/Product/Category/BestSeller?categoryNumber=001&pageNumber={i}&pageSize=24'\n",
    "    browser.get(url)\n",
    "\n",
    "    datas = browser.find_elements(By.CLASS_NAME,'gd_name')\n",
    "    for i in datas:\n",
    "        link_list.append(i.get_attribute(\"href\"))\n",
    "    time.sleep(3)\n",
    "print(link_list)\n",
    "print(len(link_list))"
   ]
  },
  {
   "cell_type": "code",
   "execution_count": 56,
   "metadata": {},
   "outputs": [],
   "source": [
    "#for link in link_list:\n",
    "    #상세 페이지 이동\n",
    "#    browser.get(link)\n",
    "browser.get(link_list[0])\n",
    "\n",
    "title=browser.find_element(By.CLASS_NAME,'gd_name').text\n",
    "author=browser.find_element(By.CLASS_NAME,'gd_auth').text\n",
    "publisher=browser.find_element(By.CLASS_NAME,'gd_pub').text\n",
    "publishing =browser.find_element(By.CLASS_NAME,'gd_date').text\n",
    "rating=browser.find_element(By.CLASS_NAME,'yes_b').text\n",
    "reviews=browser.find_element(By.CLASS_NAME,'txC_blue').text\n",
    "sales=browser.find_element(By.CLASS_NAME,'gd_sellNum').text.split(\" \")[2]\n",
    "price=browser.find_element(By.CLASS_NAME,'yes_m').text[:-1]\n",
    "ranking=browser.find_element(By.CLASS_NAME,'gd_best').text.split(\" | \")[0]\n",
    "ranking_weeks=browser.find_element(By.CLASS_NAME,'gd_best').text.split(\" | \")[1]"
   ]
  }
 ],
 "metadata": {
  "kernelspec": {
   "display_name": ".venv",
   "language": "python",
   "name": "python3"
  },
  "language_info": {
   "codemirror_mode": {
    "name": "ipython",
    "version": 3
   },
   "file_extension": ".py",
   "mimetype": "text/x-python",
   "name": "python",
   "nbconvert_exporter": "python",
   "pygments_lexer": "ipython3",
   "version": "3.9.13"
  }
 },
 "nbformat": 4,
 "nbformat_minor": 2
}
