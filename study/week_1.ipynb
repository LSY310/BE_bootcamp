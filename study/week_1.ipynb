{
 "cells": [
  {
   "cell_type": "code",
   "execution_count": 13,
   "metadata": {},
   "outputs": [
    {
     "name": "stdout",
     "output_type": "stream",
     "text": [
      "2024-04-23 18:52:35,381 INFO sqlalchemy.engine.Engine SELECT DATABASE()\n",
      "2024-04-23 18:52:35,382 INFO sqlalchemy.engine.Engine [raw sql] {}\n",
      "2024-04-23 18:52:35,384 INFO sqlalchemy.engine.Engine SELECT @@sql_mode\n",
      "2024-04-23 18:52:35,385 INFO sqlalchemy.engine.Engine [raw sql] {}\n",
      "2024-04-23 18:52:35,386 INFO sqlalchemy.engine.Engine SELECT @@lower_case_table_names\n",
      "2024-04-23 18:52:35,387 INFO sqlalchemy.engine.Engine [raw sql] {}\n"
     ]
    },
    {
     "ename": "TypeError",
     "evalue": "Additional arguments should be named <dialectname>_<argument>, got 'autoload'",
     "output_type": "error",
     "traceback": [
      "\u001b[0;31m---------------------------------------------------------------------------\u001b[0m",
      "\u001b[0;31mTypeError\u001b[0m                                 Traceback (most recent call last)",
      "Cell \u001b[0;32mIn[13], line 54\u001b[0m\n\u001b[1;32m     51\u001b[0m \u001b[38;5;28;01mwith\u001b[39;00m engine\u001b[38;5;241m.\u001b[39mconnect() \u001b[38;5;28;01mas\u001b[39;00m conn:\n\u001b[1;32m     53\u001b[0m     metadata \u001b[38;5;241m=\u001b[39m db\u001b[38;5;241m.\u001b[39mMetaData()\n\u001b[0;32m---> 54\u001b[0m     table \u001b[38;5;241m=\u001b[39m \u001b[43mdb\u001b[49m\u001b[38;5;241;43m.\u001b[39;49m\u001b[43mTable\u001b[49m\u001b[43m(\u001b[49m\u001b[38;5;124;43m'\u001b[39;49m\u001b[38;5;124;43musers\u001b[39;49m\u001b[38;5;124;43m'\u001b[39;49m\u001b[43m,\u001b[49m\u001b[43m \u001b[49m\u001b[43mmetadata\u001b[49m\u001b[43m,\u001b[49m\u001b[43m \u001b[49m\u001b[43mautoload\u001b[49m\u001b[38;5;241;43m=\u001b[39;49m\u001b[38;5;28;43;01mTrue\u001b[39;49;00m\u001b[43m,\u001b[49m\u001b[43m \u001b[49m\u001b[43mautoload_with\u001b[49m\u001b[38;5;241;43m=\u001b[39;49m\u001b[43mengine\u001b[49m\u001b[43m)\u001b[49m\n\u001b[1;32m     56\u001b[0m     query \u001b[38;5;241m=\u001b[39m db\u001b[38;5;241m.\u001b[39minsert(table)\u001b[38;5;241m.\u001b[39mvalues(records) \n\u001b[1;32m     57\u001b[0m     result_proxy \u001b[38;5;241m=\u001b[39m conn\u001b[38;5;241m.\u001b[39mexecute(query)\n",
      "File \u001b[0;32m<string>:2\u001b[0m, in \u001b[0;36m__new__\u001b[0;34m(cls, *args, **kw)\u001b[0m\n",
      "File \u001b[0;32m~/Desktop/백엔드 부트캠프/.venv/lib/python3.9/site-packages/sqlalchemy/util/deprecations.py:281\u001b[0m, in \u001b[0;36mdeprecated_params.<locals>.decorate.<locals>.warned\u001b[0;34m(fn, *args, **kwargs)\u001b[0m\n\u001b[1;32m    274\u001b[0m     \u001b[38;5;28;01mif\u001b[39;00m m \u001b[38;5;129;01min\u001b[39;00m kwargs:\n\u001b[1;32m    275\u001b[0m         _warn_with_version(\n\u001b[1;32m    276\u001b[0m             messages[m],\n\u001b[1;32m    277\u001b[0m             versions[m],\n\u001b[1;32m    278\u001b[0m             version_warnings[m],\n\u001b[1;32m    279\u001b[0m             stacklevel\u001b[38;5;241m=\u001b[39m\u001b[38;5;241m3\u001b[39m,\n\u001b[1;32m    280\u001b[0m         )\n\u001b[0;32m--> 281\u001b[0m \u001b[38;5;28;01mreturn\u001b[39;00m \u001b[43mfn\u001b[49m\u001b[43m(\u001b[49m\u001b[38;5;241;43m*\u001b[39;49m\u001b[43margs\u001b[49m\u001b[43m,\u001b[49m\u001b[43m \u001b[49m\u001b[38;5;241;43m*\u001b[39;49m\u001b[38;5;241;43m*\u001b[39;49m\u001b[43mkwargs\u001b[49m\u001b[43m)\u001b[49m\n",
      "File \u001b[0;32m~/Desktop/백엔드 부트캠프/.venv/lib/python3.9/site-packages/sqlalchemy/sql/schema.py:431\u001b[0m, in \u001b[0;36mTable.__new__\u001b[0;34m(cls, *args, **kw)\u001b[0m\n\u001b[1;32m    424\u001b[0m \u001b[38;5;129m@util\u001b[39m\u001b[38;5;241m.\u001b[39mdeprecated_params(\n\u001b[1;32m    425\u001b[0m     mustexist\u001b[38;5;241m=\u001b[39m(\n\u001b[1;32m    426\u001b[0m         \u001b[38;5;124m\"\u001b[39m\u001b[38;5;124m1.4\u001b[39m\u001b[38;5;124m\"\u001b[39m,\n\u001b[0;32m   (...)\u001b[0m\n\u001b[1;32m    429\u001b[0m )\n\u001b[1;32m    430\u001b[0m \u001b[38;5;28;01mdef\u001b[39;00m \u001b[38;5;21m__new__\u001b[39m(\u001b[38;5;28mcls\u001b[39m, \u001b[38;5;241m*\u001b[39margs: Any, \u001b[38;5;241m*\u001b[39m\u001b[38;5;241m*\u001b[39mkw: Any) \u001b[38;5;241m-\u001b[39m\u001b[38;5;241m>\u001b[39m Any:\n\u001b[0;32m--> 431\u001b[0m     \u001b[38;5;28;01mreturn\u001b[39;00m \u001b[38;5;28;43mcls\u001b[39;49m\u001b[38;5;241;43m.\u001b[39;49m\u001b[43m_new\u001b[49m\u001b[43m(\u001b[49m\u001b[38;5;241;43m*\u001b[39;49m\u001b[43margs\u001b[49m\u001b[43m,\u001b[49m\u001b[43m \u001b[49m\u001b[38;5;241;43m*\u001b[39;49m\u001b[38;5;241;43m*\u001b[39;49m\u001b[43mkw\u001b[49m\u001b[43m)\u001b[49m\n",
      "File \u001b[0;32m~/Desktop/백엔드 부트캠프/.venv/lib/python3.9/site-packages/sqlalchemy/sql/schema.py:486\u001b[0m, in \u001b[0;36mTable._new\u001b[0;34m(cls, *args, **kw)\u001b[0m\n\u001b[1;32m    484\u001b[0m \u001b[38;5;28;01mexcept\u001b[39;00m \u001b[38;5;167;01mException\u001b[39;00m:\n\u001b[1;32m    485\u001b[0m     \u001b[38;5;28;01mwith\u001b[39;00m util\u001b[38;5;241m.\u001b[39msafe_reraise():\n\u001b[0;32m--> 486\u001b[0m         metadata\u001b[38;5;241m.\u001b[39m_remove_table(name, schema)\n",
      "File \u001b[0;32m~/Desktop/백엔드 부트캠프/.venv/lib/python3.9/site-packages/sqlalchemy/util/langhelpers.py:146\u001b[0m, in \u001b[0;36msafe_reraise.__exit__\u001b[0;34m(self, type_, value, traceback)\u001b[0m\n\u001b[1;32m    144\u001b[0m     \u001b[38;5;28;01massert\u001b[39;00m exc_value \u001b[38;5;129;01mis\u001b[39;00m \u001b[38;5;129;01mnot\u001b[39;00m \u001b[38;5;28;01mNone\u001b[39;00m\n\u001b[1;32m    145\u001b[0m     \u001b[38;5;28mself\u001b[39m\u001b[38;5;241m.\u001b[39m_exc_info \u001b[38;5;241m=\u001b[39m \u001b[38;5;28;01mNone\u001b[39;00m  \u001b[38;5;66;03m# remove potential circular references\u001b[39;00m\n\u001b[0;32m--> 146\u001b[0m     \u001b[38;5;28;01mraise\u001b[39;00m exc_value\u001b[38;5;241m.\u001b[39mwith_traceback(exc_tb)\n\u001b[1;32m    147\u001b[0m \u001b[38;5;28;01melse\u001b[39;00m:\n\u001b[1;32m    148\u001b[0m     \u001b[38;5;28mself\u001b[39m\u001b[38;5;241m.\u001b[39m_exc_info \u001b[38;5;241m=\u001b[39m \u001b[38;5;28;01mNone\u001b[39;00m  \u001b[38;5;66;03m# remove potential circular references\u001b[39;00m\n",
      "File \u001b[0;32m~/Desktop/백엔드 부트캠프/.venv/lib/python3.9/site-packages/sqlalchemy/sql/schema.py:481\u001b[0m, in \u001b[0;36mTable._new\u001b[0;34m(cls, *args, **kw)\u001b[0m\n\u001b[1;32m    479\u001b[0m metadata\u001b[38;5;241m.\u001b[39m_add_table(name, schema, table)\n\u001b[1;32m    480\u001b[0m \u001b[38;5;28;01mtry\u001b[39;00m:\n\u001b[0;32m--> 481\u001b[0m     \u001b[43mtable\u001b[49m\u001b[38;5;241;43m.\u001b[39;49m\u001b[38;5;21;43m__init__\u001b[39;49m\u001b[43m(\u001b[49m\u001b[43mname\u001b[49m\u001b[43m,\u001b[49m\u001b[43m \u001b[49m\u001b[43mmetadata\u001b[49m\u001b[43m,\u001b[49m\u001b[43m \u001b[49m\u001b[38;5;241;43m*\u001b[39;49m\u001b[43margs\u001b[49m\u001b[43m,\u001b[49m\u001b[43m \u001b[49m\u001b[43m_no_init\u001b[49m\u001b[38;5;241;43m=\u001b[39;49m\u001b[38;5;28;43;01mFalse\u001b[39;49;00m\u001b[43m,\u001b[49m\u001b[43m \u001b[49m\u001b[38;5;241;43m*\u001b[39;49m\u001b[38;5;241;43m*\u001b[39;49m\u001b[43mkw\u001b[49m\u001b[43m)\u001b[49m\n\u001b[1;32m    482\u001b[0m     table\u001b[38;5;241m.\u001b[39mdispatch\u001b[38;5;241m.\u001b[39mafter_parent_attach(table, metadata)\n\u001b[1;32m    483\u001b[0m     \u001b[38;5;28;01mreturn\u001b[39;00m table\n",
      "File \u001b[0;32m~/Desktop/백엔드 부트캠프/.venv/lib/python3.9/site-packages/sqlalchemy/sql/schema.py:855\u001b[0m, in \u001b[0;36mTable.__init__\u001b[0;34m(self, name, metadata, schema, quote, quote_schema, autoload_with, autoload_replace, keep_existing, extend_existing, resolve_fks, include_columns, implicit_returning, comment, info, listeners, prefixes, _extend_on, _no_init, *args, **kw)\u001b[0m\n\u001b[1;32m    851\u001b[0m         event\u001b[38;5;241m.\u001b[39mlisten(\u001b[38;5;28mself\u001b[39m, evt, fn)\n\u001b[1;32m    853\u001b[0m \u001b[38;5;28mself\u001b[39m\u001b[38;5;241m.\u001b[39m_prefixes \u001b[38;5;241m=\u001b[39m prefixes \u001b[38;5;28;01mif\u001b[39;00m prefixes \u001b[38;5;28;01melse\u001b[39;00m []\n\u001b[0;32m--> 855\u001b[0m \u001b[38;5;28;43mself\u001b[39;49m\u001b[38;5;241;43m.\u001b[39;49m\u001b[43m_extra_kwargs\u001b[49m\u001b[43m(\u001b[49m\u001b[38;5;241;43m*\u001b[39;49m\u001b[38;5;241;43m*\u001b[39;49m\u001b[43mkw\u001b[49m\u001b[43m)\u001b[49m\n\u001b[1;32m    857\u001b[0m \u001b[38;5;66;03m# load column definitions from the database if 'autoload' is defined\u001b[39;00m\n\u001b[1;32m    858\u001b[0m \u001b[38;5;66;03m# we do it after the table is in the singleton dictionary to support\u001b[39;00m\n\u001b[1;32m    859\u001b[0m \u001b[38;5;66;03m# circular foreign keys\u001b[39;00m\n\u001b[1;32m    860\u001b[0m \u001b[38;5;28;01mif\u001b[39;00m autoload_with \u001b[38;5;129;01mis\u001b[39;00m \u001b[38;5;129;01mnot\u001b[39;00m \u001b[38;5;28;01mNone\u001b[39;00m:\n",
      "File \u001b[0;32m~/Desktop/백엔드 부트캠프/.venv/lib/python3.9/site-packages/sqlalchemy/sql/schema.py:1003\u001b[0m, in \u001b[0;36mTable._extra_kwargs\u001b[0;34m(self, **kwargs)\u001b[0m\n\u001b[1;32m   1002\u001b[0m \u001b[38;5;28;01mdef\u001b[39;00m \u001b[38;5;21m_extra_kwargs\u001b[39m(\u001b[38;5;28mself\u001b[39m, \u001b[38;5;241m*\u001b[39m\u001b[38;5;241m*\u001b[39mkwargs: Any) \u001b[38;5;241m-\u001b[39m\u001b[38;5;241m>\u001b[39m \u001b[38;5;28;01mNone\u001b[39;00m:\n\u001b[0;32m-> 1003\u001b[0m     \u001b[38;5;28;43mself\u001b[39;49m\u001b[38;5;241;43m.\u001b[39;49m\u001b[43m_validate_dialect_kwargs\u001b[49m\u001b[43m(\u001b[49m\u001b[43mkwargs\u001b[49m\u001b[43m)\u001b[49m\n",
      "File \u001b[0;32m~/Desktop/백엔드 부트캠프/.venv/lib/python3.9/site-packages/sqlalchemy/sql/base.py:596\u001b[0m, in \u001b[0;36mDialectKWArgs._validate_dialect_kwargs\u001b[0;34m(self, kwargs)\u001b[0m\n\u001b[1;32m    594\u001b[0m m \u001b[38;5;241m=\u001b[39m re\u001b[38;5;241m.\u001b[39mmatch(\u001b[38;5;124m\"\u001b[39m\u001b[38;5;124m^(.+?)_(.+)$\u001b[39m\u001b[38;5;124m\"\u001b[39m, k)\n\u001b[1;32m    595\u001b[0m \u001b[38;5;28;01mif\u001b[39;00m \u001b[38;5;129;01mnot\u001b[39;00m m:\n\u001b[0;32m--> 596\u001b[0m     \u001b[38;5;28;01mraise\u001b[39;00m \u001b[38;5;167;01mTypeError\u001b[39;00m(\n\u001b[1;32m    597\u001b[0m         \u001b[38;5;124m\"\u001b[39m\u001b[38;5;124mAdditional arguments should be \u001b[39m\u001b[38;5;124m\"\u001b[39m\n\u001b[1;32m    598\u001b[0m         \u001b[38;5;124m\"\u001b[39m\u001b[38;5;124mnamed <dialectname>_<argument>, got \u001b[39m\u001b[38;5;124m'\u001b[39m\u001b[38;5;132;01m%s\u001b[39;00m\u001b[38;5;124m'\u001b[39m\u001b[38;5;124m\"\u001b[39m \u001b[38;5;241m%\u001b[39m k\n\u001b[1;32m    599\u001b[0m     )\n\u001b[1;32m    600\u001b[0m dialect_name, arg_name \u001b[38;5;241m=\u001b[39m m\u001b[38;5;241m.\u001b[39mgroup(\u001b[38;5;241m1\u001b[39m, \u001b[38;5;241m2\u001b[39m)\n\u001b[1;32m    602\u001b[0m \u001b[38;5;28;01mtry\u001b[39;00m:\n",
      "\u001b[0;31mTypeError\u001b[0m: Additional arguments should be named <dialectname>_<argument>, got 'autoload'"
     ]
    }
   ],
   "source": [
    "#이름 생성\n",
    "from faker import Faker\n",
    "import random\n",
    "import pandas as pd\n",
    "from sqlalchemy import create_engine\n",
    "import sqlalchemy as db\n",
    "username \t= 'root'\n",
    "password \t= '0310'\n",
    "host \t\t= 'localhost'\n",
    "port \t\t= 3306\n",
    "db_name\t\t \t= 'airportdb'\n",
    "\n",
    "engine = create_engine(f\"mysql+pymysql://{username}:{password}@{host}:{port}/{db_name}?charset=utf8mb4\", echo=True)\n",
    "\n",
    "fake = Faker()\n",
    "Faker.seed(1)\n",
    "count=10\n",
    "\n",
    "firstname=[fake.first_name() for i in range(count)]\n",
    "lastname=[fake.last_name() for i in range(count)]\n",
    "birthdate=[fake.date_between(start_date='-100y',end_date='today') for i in range(count)]\n",
    "sex=[random.choice(['여','남']) for i in range(count)]\n",
    "street=[fake.address() for i in range(count)]\n",
    "city=[fake.city() for i in range(count)]\n",
    "zip=[fake.pyint(min_value=0, max_value=32767) for i in range(count)]\n",
    "country=[fake.country() for i in range(count)]\n",
    "emailaddress=[fake.email() for i in range(count)]\n",
    "telephoneno=[fake.phone_number() for i in range(count)]\n",
    "salary=[fake.pyint(min_value=0, max_value=999999) for i in range(count)]\n",
    "department=[random.choice(['Marketing','Buchhaltung','Management','Logistik','Flugfeld']) for i in range(count)]\n",
    "username=[fake.user_name() for i in range(count)]\n",
    "password=[fake.password() for i in range(count)]\n",
    "\n",
    "df = pd.DataFrame()\n",
    "df['firstname'] = firstname\n",
    "df['lastname'] = lastname\n",
    "df['birthdate'] = birthdate\n",
    "df['sex'] = sex\n",
    "df['street'] = street\n",
    "df['city'] = city\n",
    "df['zip'] = zip\n",
    "df['country'] = country\n",
    "df['emailaddress'] = emailaddress\n",
    "df['telephoneno'] = telephoneno\n",
    "df['salary'] = salary\n",
    "df['department'] = department\n",
    "df['username'] = username\n",
    "df['password'] = password\n",
    "records = df.to_dict(orient='records')\n",
    "\n",
    "with engine.connect() as conn:\n",
    "    \n",
    "    metadata = db.MetaData()\n",
    "    table = db.Table('users', metadata, autoload=True, autoload_with=engine)\n",
    "\n",
    "    query = db.insert(table).values(records) \n",
    "    result_proxy = conn.execute(query)\n"
   ]
  },
  {
   "cell_type": "code",
   "execution_count": null,
   "metadata": {},
   "outputs": [
    {
     "data": {
      "text/plain": [
       "'Moore'"
      ]
     },
     "execution_count": 8,
     "metadata": {},
     "output_type": "execute_result"
    }
   ],
   "source": [
    "from faker import Faker\n",
    "fake = Faker()\n",
    "fake.first_name()\n",
    "fake.last_name()"
   ]
  },
  {
   "cell_type": "code",
   "execution_count": null,
   "metadata": {},
   "outputs": [],
   "source": [
    "from sqlalchemy import create_engine\n",
    "import sqlalchemy as db\n",
    "username \t= 'root'\n",
    "password \t= '0310'\n",
    "host \t\t= 'localhost'\n",
    "port \t\t= 3306\n",
    "db\t\t \t= 'airportdb'\n",
    "\n",
    "engine = create_engine(f\"mysql+pymysql://{username}:{password}@{host}:{port}/{db}?charset=utf8mb4\", echo=True)\n"
   ]
  }
 ],
 "metadata": {
  "kernelspec": {
   "display_name": ".venv",
   "language": "python",
   "name": "python3"
  },
  "language_info": {
   "codemirror_mode": {
    "name": "ipython",
    "version": 3
   },
   "file_extension": ".py",
   "mimetype": "text/x-python",
   "name": "python",
   "nbconvert_exporter": "python",
   "pygments_lexer": "ipython3",
   "version": "3.9.13"
  }
 },
 "nbformat": 4,
 "nbformat_minor": 2
}
