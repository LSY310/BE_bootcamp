{
 "cells": [
  {
   "cell_type": "markdown",
   "metadata": {},
   "source": [
    "함수 실행 시간을 측정하는 데코레이터 timer_decorator를 작성하세요. \n",
    "\n",
    "임의의 함수가 실행되는 시간을 측정하여 \"함수 실행 시간: x.xx초\" 형태로 출력하세요."
   ]
  },
  {
   "cell_type": "markdown",
   "metadata": {},
   "source": [
    "import datetime\n",
    "start= datetime.datetime.now()\n",
    "end=datetime.datetime.now()\n",
    "print(f\"함수 실행시간 : {end.second-start.secon} 초\")"
   ]
  },
  {
   "cell_type": "code",
   "execution_count": null,
   "metadata": {},
   "outputs": [],
   "source": [
    "import datetime\n",
    "\n",
    "def timer_decorator(function):\n",
    "    def wrapper():\n",
    "        start=  c\n",
    "        function\n",
    "        end=datetime.datetime.now()\n",
    "        print(f\"함수 실행 시간: {(end_time - start_time).seconds}초\")\n",
    "    return wrapper"
   ]
  }
 ],
 "metadata": {
  "language_info": {
   "name": "python"
  }
 },
 "nbformat": 4,
 "nbformat_minor": 2
}
