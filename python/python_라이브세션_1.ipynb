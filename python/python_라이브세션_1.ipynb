{
 "cells": [
  {
   "cell_type": "code",
   "execution_count": null,
   "metadata": {},
   "outputs": [],
   "source": []
  },
  {
   "cell_type": "markdown",
   "metadata": {},
   "source": [
    "파이썬 장점\n",
    "-내장함수 or 기본함수"
   ]
  },
  {
   "cell_type": "markdown",
   "metadata": {},
   "source": [
    "1. list에 적용할 수 있는 기본 함수 : min(), max(), sum()\n",
    "-min(),max(),sum() 함수들은 리스트를 매개변수로 넣어 사용하는 매우 기본적인 함수\n",
    "\n",
    "ex)min(['사과''배','오렌지'])\n",
    "\n",
    "min() : 리스트 최소값\n",
    "max() : 리스트 최댓값\n",
    "sum() : 모든 값들의 합"
   ]
  },
  {
   "cell_type": "code",
   "execution_count": 1,
   "metadata": {},
   "outputs": [
    {
     "name": "stdout",
     "output_type": "stream",
     "text": [
      "5\n",
      "110\n",
      "344\n"
     ]
    }
   ],
   "source": [
    "numbers = [30,102,110,67,30,5]\n",
    "print(min(numbers))\n",
    "print(max(numbers))\n",
    "print(sum(numbers))"
   ]
  },
  {
   "cell_type": "code",
   "execution_count": 3,
   "metadata": {},
   "outputs": [
    {
     "name": "stdout",
     "output_type": "stream",
     "text": [
      "1\n",
      "5\n"
     ]
    }
   ],
   "source": [
    "print(min(1,2,3,4,5))\n",
    "print(max(1,2,3,4,5))"
   ]
  },
  {
   "cell_type": "markdown",
   "metadata": {},
   "source": [
    "2.reversed() : 리스트의 내부의 값들을 뒤집는 함수\n",
    "-reversed() 리스트를 매개변수로 받응"
   ]
  },
  {
   "cell_type": "code",
   "execution_count": null,
   "metadata": {},
   "outputs": [],
   "source": []
  },
  {
   "cell_type": "code",
   "execution_count": 6,
   "metadata": {},
   "outputs": [
    {
     "name": "stdout",
     "output_type": "stream",
     "text": [
      "[0, 1, 2, 3, 4, 5]\n",
      "<list_reverseiterator object at 0x106b58370>\n",
      "[5, 4, 3, 2, 1, 0]\n"
     ]
    }
   ],
   "source": [
    "numbers = [0,1,2,3,4,5]\n",
    "numbers_reversed=reversed(numbers)\n",
    "print(numbers)\n",
    "print(numbers_reversed)\n",
    "print(list(numbers_reversed))"
   ]
  },
  {
   "cell_type": "code",
   "execution_count": 8,
   "metadata": {},
   "outputs": [
    {
     "name": "stdout",
     "output_type": "stream",
     "text": [
      "<list_reverseiterator object at 0x106c87670>\n",
      "첫뻔째 for문 6\n",
      "첫뻔째 for문 5\n",
      "첫뻔째 for문 4\n",
      "첫뻔째 for문 3\n",
      "첫뻔째 for문 2\n",
      "첫뻔째 for문 1\n"
     ]
    }
   ],
   "source": [
    "result = reversed([1,2,3,4,5,6])\n",
    "print(result)\n",
    "\n",
    "for i in result : \n",
    "    print(f'첫뻔째 for문 {i}')\n",
    "for i in result : \n",
    "    print(f'두뻔째 for문 {i}')\n",
    "\n",
    "    #이터레이터 바로 만들어야함, 두번째 for문부터는 작동하지 않는다"
   ]
  },
  {
   "cell_type": "code",
   "execution_count": 11,
   "metadata": {},
   "outputs": [
    {
     "name": "stdout",
     "output_type": "stream",
     "text": [
      "1뻔째 for문 [6, 5, 4, 3, 2, 1]\n",
      "1뻔째 for문 [6, 5, 4, 3, 2, 1]\n"
     ]
    }
   ],
   "source": [
    "result = reversed([1,2,3,4,5,6])\n",
    "result1=[]\n",
    "for i in range(2) : \n",
    "    for i in result :\n",
    "        result1.append(i)\n",
    "    print(f'{i}뻔째 for문 {result1}')\n"
   ]
  },
  {
   "cell_type": "code",
   "execution_count": 12,
   "metadata": {},
   "outputs": [
    {
     "name": "stdout",
     "output_type": "stream",
     "text": [
      "첫번째 for문 5\n",
      "첫번째 for문 4\n",
      "첫번째 for문 3\n",
      "첫번째 for문 2\n",
      "첫번째 for문 1\n",
      "두번째 for문 5\n",
      "두번째 for문 4\n",
      "두번째 for문 3\n",
      "두번째 for문 2\n",
      "두번째 for문 1\n"
     ]
    }
   ],
   "source": [
    "result=[1,2,3,4,5]\n",
    "for i in reversed(result):\n",
    "    print(f'첫번째 for문 {i}')\n",
    "for i in reversed(result):\n",
    "    print(f'두번째 for문 {i}')"
   ]
  },
  {
   "cell_type": "code",
   "execution_count": 13,
   "metadata": {},
   "outputs": [
    {
     "name": "stdout",
     "output_type": "stream",
     "text": [
      "[6, 5, 4, 3, 2, 1]\n",
      "첫뻔째 for문 6\n",
      "첫뻔째 for문 5\n",
      "첫뻔째 for문 4\n",
      "첫뻔째 for문 3\n",
      "첫뻔째 for문 2\n",
      "첫뻔째 for문 1\n",
      "두뻔째 for문 6\n",
      "두뻔째 for문 5\n",
      "두뻔째 for문 4\n",
      "두뻔째 for문 3\n",
      "두뻔째 for문 2\n",
      "두뻔째 for문 1\n"
     ]
    }
   ],
   "source": [
    "result = list(reversed([1,2,3,4,5,6]))\n",
    "print(result)\n",
    "\n",
    "for i in result : \n",
    "    print(f'첫뻔째 for문 {i}')\n",
    "for i in result : \n",
    "    print(f'두뻔째 for문 {i}')"
   ]
  },
  {
   "cell_type": "markdown",
   "metadata": {},
   "source": [
    "3. enumerate() 함수의 반복문 조합하기\n",
    "이터레이터 반환값->결과값 리스트로 감싸서 해결"
   ]
  },
  {
   "cell_type": "code",
   "execution_count": 14,
   "metadata": {},
   "outputs": [
    {
     "name": "stdout",
     "output_type": "stream",
     "text": [
      "0번째는 사과입니다.\n",
      "1번째는 바나나입니다.\n",
      "2번째는 배입니다.\n"
     ]
    }
   ],
   "source": [
    "items=[\"사과\", \"바나나\", \"배\"]\n",
    "\n",
    "for i in range(len(items)):\n",
    "    print(f'{i}번째는 {items[i]}입니다.')"
   ]
  },
  {
   "cell_type": "code",
   "execution_count": 17,
   "metadata": {},
   "outputs": [
    {
     "name": "stdout",
     "output_type": "stream",
     "text": [
      "[(0, '사과'), (1, '바나나'), (2, '배')]\n",
      "0번째는 사과입니다.\n",
      "1번째는 바나나입니다.\n",
      "2번째는 배입니다.\n"
     ]
    }
   ],
   "source": [
    "items=[\"사과\", \"바나나\", \"배\"]\n",
    "print(list(enumerate(items))) #튜플형태반환\n",
    "for index, item in enumerate(items): \n",
    "    print(f'{index}번째는 {item}입니다.')"
   ]
  },
  {
   "cell_type": "markdown",
   "metadata": {},
   "source": [
    "출력값\n",
    "0번째는 사과입니다.\n",
    "1번쨰는 바나나입니다.\n",
    "2번째는 배입니다."
   ]
  },
  {
   "cell_type": "markdown",
   "metadata": {},
   "source": [
    "4. 딕셔너리의 items90 함수와 반복문 조합하기"
   ]
  },
  {
   "cell_type": "code",
   "execution_count": 19,
   "metadata": {},
   "outputs": [
    {
     "name": "stdout",
     "output_type": "stream",
     "text": [
      "{'key_1': 'val_1', 'key_2': 'val_2', 'key_3': 'val_3'}\n",
      "dict_items([('key_1', 'val_1'), ('key_2', 'val_2'), ('key_3', 'val_3')])\n"
     ]
    }
   ],
   "source": [
    "oz_dict={\n",
    "    \"key_1\" : \"val_1\",\n",
    "    \"key_2\" : \"val_2\",\n",
    "    \"key_3\" : \"val_3\"\n",
    "}\n",
    "\n",
    "print(oz_dict)\n",
    "print(oz_dict.items()) #튜플형태"
   ]
  },
  {
   "cell_type": "code",
   "execution_count": 20,
   "metadata": {},
   "outputs": [
    {
     "name": "stdout",
     "output_type": "stream",
     "text": [
      "ox_dict : ('key_1', 'val_1')\n",
      "ox_dict : ('key_2', 'val_2')\n",
      "ox_dict : ('key_3', 'val_3')\n"
     ]
    }
   ],
   "source": [
    "for key, value in oz_dict.items():\n",
    "    print(f'ox_dict : {key,value}')"
   ]
  },
  {
   "cell_type": "markdown",
   "metadata": {},
   "source": [
    "5. 리스트 배포\n",
    "프로그램을 만들때 반복문을 사용해 리스트를 재조합하는 상황이 많이 발생\n",
    "\n",
    "0 부터 100까지 숫자 중 짝수인 수를 뽑고, 그 수를 제곱한 결과를 리스트에 담아서 출력 "
   ]
  },
  {
   "cell_type": "code",
   "execution_count": 25,
   "metadata": {},
   "outputs": [
    {
     "name": "stdout",
     "output_type": "stream",
     "text": [
      "[0, 4, 16, 36, 64, 100, 144, 196, 256, 324, 400, 484, 576, 676, 784, 900, 1024, 1156, 1296, 1444, 1600, 1764, 1936, 2116, 2304, 2500, 2704, 2916, 3136, 3364, 3600, 3844, 4096, 4356, 4624, 4900, 5184, 5476, 5776, 6084, 6400, 6724, 7056, 7396, 7744, 8100, 8464, 8836, 9216, 9604, 10000]\n"
     ]
    }
   ],
   "source": [
    "list1=[]\n",
    "for i in range(0,101,2):\n",
    "    list1.append(i*i)\n",
    "print(list1)"
   ]
  },
  {
   "cell_type": "code",
   "execution_count": 28,
   "metadata": {},
   "outputs": [
    {
     "name": "stdout",
     "output_type": "stream",
     "text": [
      "{0, 256, 1024, 2304, 4, 900, 1156, 3844, 4096, 4356, 8836, 9604, 10000, 16, 144, 400, 784, 1296, 1936, 2704, 3600, 4624, 5776, 9216, 36, 676, 1444, 3364, 4900, 8100, 7056, 7744, 64, 576, 1600, 3136, 196, 324, 2116, 2500, 5184, 6084, 6400, 6724, 8464, 100, 484, 1764, 2916, 5476, 7396}\n"
     ]
    }
   ],
   "source": [
    "result={i * i for i in range(0,102,2)}\n",
    "print(result)"
   ]
  },
  {
   "cell_type": "markdown",
   "metadata": {},
   "source": [
    "리스트 이름 =[포현식 for 반복자 in 반복할 것]\n",
    "리스트이름 = [표현식 for 반복자 in 반복할 것 if 조건]"
   ]
  },
  {
   "cell_type": "code",
   "execution_count": 33,
   "metadata": {},
   "outputs": [
    {
     "name": "stdout",
     "output_type": "stream",
     "text": [
      "['닥스훈트', '시바', '푸들', '말티즈']\n"
     ]
    }
   ],
   "source": [
    "dogs = [\"닥스훈트\", \"웰시코기\", \"시바\", \"푸들\", \"말티즈\"]\n",
    "result = [dog for dog in dogs if dog!=\"웰시코기\"]\n",
    "print(result)\n",
    "        "
   ]
  },
  {
   "cell_type": "markdown",
   "metadata": {},
   "source": [
    "6.이터레이터\n",
    "for 반복 in 반복할 것:\n",
    "    코드\n",
    "\n",
    "반복할 것 => 이터러블 => 이터러블한 것에서 하나씩 데이터를 꺼내는데 이러한 데이터 또는 요소를 이터레이터라고 한다.\n",
    "사용하는 이유? 효율성 => 계산을 미리 하지 않고, 필요할때마다 사용 => 리소스를 아낄 수 있음\n",
    "for문 한정 next없이도 자동적으로 하나씩 꺼내서 사용 가능"
   ]
  },
  {
   "cell_type": "code",
   "execution_count": 35,
   "metadata": {},
   "outputs": [
    {
     "name": "stdout",
     "output_type": "stream",
     "text": [
      "<list_reverseiterator object at 0x106ef2640>\n",
      "5\n",
      "4\n",
      "3\n",
      "2\n",
      "1\n"
     ]
    }
   ],
   "source": [
    "numbers=[1,2,3,4,5]\n",
    "numbers_reversed=reversed(numbers)\n",
    "\n",
    "print(numbers_reversed)\n",
    "print(next(numbers_reversed))\n",
    "print(next(numbers_reversed))\n",
    "print(next(numbers_reversed))\n",
    "print(next(numbers_reversed))\n",
    "print(next(numbers_reversed))"
   ]
  },
  {
   "cell_type": "code",
   "execution_count": null,
   "metadata": {},
   "outputs": [],
   "source": []
  }
 ],
 "metadata": {
  "kernelspec": {
   "display_name": "Python 3",
   "language": "python",
   "name": "python3"
  },
  "language_info": {
   "codemirror_mode": {
    "name": "ipython",
    "version": 3
   },
   "file_extension": ".py",
   "mimetype": "text/x-python",
   "name": "python",
   "nbconvert_exporter": "python",
   "pygments_lexer": "ipython3",
   "version": "3.9.6"
  }
 },
 "nbformat": 4,
 "nbformat_minor": 2
}
